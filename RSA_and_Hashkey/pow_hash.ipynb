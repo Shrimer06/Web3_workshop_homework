{
 "cells": [
  {
   "cell_type": "code",
   "execution_count": 6,
   "metadata": {},
   "outputs": [],
   "source": [
    "import hashlib\n",
    "import time"
   ]
  },
  {
   "cell_type": "markdown",
   "metadata": {},
   "source": [
    "## 定义 POW 函数\n",
    "\n",
    "该函数不断修改 nonce 进行哈希运算，直到找到满足条件的哈希值。"
   ]
  },
  {
   "cell_type": "code",
   "execution_count": 7,
   "metadata": {},
   "outputs": [],
   "source": [
    "def proof_of_work(nickname, target_zeros):\n",
    "    \"\"\"\n",
    "    执行 POW 工作量证明\n",
    "    :param nickname: 昵称\n",
    "    :param target_zeros: 目标前导零的数量\n",
    "    :return: nonce, hash_value, content, elapsed_time\n",
    "    \"\"\"\n",
    "    nonce = 0\n",
    "    target = '0' * target_zeros\n",
    "    start_time = time.time()\n",
    "\n",
    "    while True:\n",
    "        # 组合昵称和 nonce\n",
    "        content = f\"{nickname}{nonce}\"\n",
    "        # 计算 SHA256 哈希值\n",
    "        hash_value = hashlib.sha256(content.encode()).hexdigest()\n",
    "\n",
    "        # 检查是否满足条件\n",
    "        if hash_value.startswith(target):\n",
    "            elapsed_time = time.time() - start_time\n",
    "            return nonce, hash_value, content, elapsed_time\n",
    "\n",
    "        nonce += 1"
   ]
  },
  {
   "cell_type": "markdown",
   "metadata": {},
   "source": [
    "## 设置昵称"
   ]
  },
  {
   "cell_type": "code",
   "execution_count": 8,
   "metadata": {
    "scrolled": true
   },
   "outputs": [],
   "source": [
    "nickname = \"mosizilang\""
   ]
  },
  {
   "cell_type": "markdown",
   "metadata": {},
   "source": [
    "## 任务 1: 寻找 4 个 0 开头的哈希值"
   ]
  },
  {
   "cell_type": "code",
   "execution_count": 9,
   "metadata": {},
   "outputs": [
    {
     "name": "stdout",
     "output_type": "stream",
     "text": [
      "任务 1: 寻找 4 个 0 开头的哈希值...\n",
      "------------------------------------------------------------\n",
      "✓ 找到满足条件的哈希值！\n",
      "花费时间: 0.0339 秒\n",
      "Nonce: 61483\n",
      "Hash 内容: mosizilang61483\n",
      "Hash 值: 00005c42a3549d192ce930f046c260a9320a06fe580f85a971571797442a3834\n"
     ]
    }
   ],
   "source": [
    "    print(\"任务 1: 寻找 4 个 0 开头的哈希值...\")\n",
    "    print(\"-\" * 60)\n",
    "    nonce, hash_value, content, elapsed_time = proof_of_work(nickname, 4)\n",
    "    print(f\"✓ 找到满足条件的哈希值！\")\n",
    "    print(f\"花费时间: {elapsed_time:.4f} 秒\")\n",
    "    print(f\"Nonce: {nonce}\")\n",
    "    print(f\"Hash 内容: {content}\")\n",
    "    print(f\"Hash 值: {hash_value}\")"
   ]
  },
  {
   "cell_type": "markdown",
   "metadata": {},
   "source": [
    "## 任务 2: 寻找 5 个 0 开头的哈希值"
   ]
  },
  {
   "cell_type": "code",
   "execution_count": 10,
   "metadata": {},
   "outputs": [
    {
     "name": "stdout",
     "output_type": "stream",
     "text": [
      "\n",
      "任务 2: 寻找 5 个 0 开头的哈希值...\n",
      "花费时间: 0.0492 秒\n",
      "Nonce: 153796\n",
      "Hash 内容: mosizilang153796\n",
      "Hash 值: 00000c06d2c2ffa6a89297ab94cf40b9d237d151957c33170c845bcf9425792b\n"
     ]
    }
   ],
   "source": [
    "print(\"\\n任务 2: 寻找 5 个 0 开头的哈希值...\")\n",
    "nonce, hash_value, content, elapsed_time = proof_of_work(nickname, 5)\n",
    "print(f\"花费时间: {elapsed_time:.4f} 秒\")\n",
    "print(f\"Nonce: {nonce}\")\n",
    "print(f\"Hash 内容: {content}\")\n",
    "print(f\"Hash 值: {hash_value}\")"
   ]
  }
 ],
 "metadata": {
  "kernelspec": {
   "display_name": "Python 3 (ipykernel)",
   "language": "python",
   "name": "python3"
  },
  "language_info": {
   "codemirror_mode": {
    "name": "ipython",
    "version": 3
   },
   "file_extension": ".py",
   "mimetype": "text/x-python",
   "name": "python",
   "nbconvert_exporter": "python",
   "pygments_lexer": "ipython3",
   "version": "3.13.7"
  }
 },
 "nbformat": 4,
 "nbformat_minor": 4
}
